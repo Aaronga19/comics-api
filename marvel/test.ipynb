{
 "cells": [
  {
   "cell_type": "code",
   "execution_count": 1,
   "metadata": {},
   "outputs": [],
   "source": [
    "import requests\n"
   ]
  },
  {
   "cell_type": "code",
   "execution_count": 11,
   "metadata": {},
   "outputs": [],
   "source": [
    "response = requests.get('http://127.0.0.1:8000/searchComics/chanos')\n",
    "data = response.json()"
   ]
  },
  {
   "cell_type": "code",
   "execution_count": 9,
   "metadata": {},
   "outputs": [
    {
     "data": {
      "text/plain": [
       "'Show items that are similar to: Thanos'"
      ]
     },
     "execution_count": 9,
     "metadata": {},
     "output_type": "execute_result"
    }
   ],
   "source": [
    "data['message']"
   ]
  },
  {
   "cell_type": "code",
   "execution_count": 2,
   "metadata": {},
   "outputs": [],
   "source": [
    "response = requests.get('http://0.0.0.0:8001/users/')\n",
    "data = response.json()"
   ]
  },
  {
   "cell_type": "code",
   "execution_count": 4,
   "metadata": {},
   "outputs": [
    {
     "data": {
      "text/plain": [
       "'Show all users'"
      ]
     },
     "execution_count": 4,
     "metadata": {},
     "output_type": "execute_result"
    }
   ],
   "source": [
    "data['message']"
   ]
  },
  {
   "cell_type": "code",
   "execution_count": 4,
   "metadata": {},
   "outputs": [],
   "source": [
    "apikey='78959008c1a2f83975399c4efd32bd07'\n",
    "privatekey='01871c7d242a2d46b1ad2af8e7e4367aace38cb8'\n",
    "tohashkey = f'1{privatekey}{apikey}'"
   ]
  },
  {
   "cell_type": "code",
   "execution_count": 31,
   "metadata": {},
   "outputs": [],
   "source": []
  },
  {
   "cell_type": "code",
   "execution_count": 23,
   "metadata": {},
   "outputs": [],
   "source": [
    "url = 'http://gateway.marvel.com/v1/public/comics'"
   ]
  },
  {
   "cell_type": "code",
   "execution_count": 24,
   "metadata": {},
   "outputs": [],
   "source": [
    "# headers = {\n",
    "#   'x-api-key': 'XFFRigZaJxc41mjV7G3BIDaMQHfw0O',\n",
    "#   'Content-Type': 'application/json'\n",
    "# }\n",
    "\n",
    "response = requests.request(\"GET\", url, headers=headers)"
   ]
  },
  {
   "cell_type": "code",
   "execution_count": 25,
   "metadata": {},
   "outputs": [
    {
     "data": {
      "text/plain": [
       "<Response [409]>"
      ]
     },
     "execution_count": 25,
     "metadata": {},
     "output_type": "execute_result"
    }
   ],
   "source": [
    "response"
   ]
  },
  {
   "cell_type": "code",
   "execution_count": 26,
   "metadata": {},
   "outputs": [
    {
     "data": {
      "text/plain": [
       "{'ts': '1',\n",
       " 'apikey': '78959008c1a2f83975399c4efd32bd07',\n",
       " 'hash': '101871c7d242a2d46b1ad2af8e7e4367aace38cb878959008c1a2f83975399c4efd32bd07'}"
      ]
     },
     "execution_count": 26,
     "metadata": {},
     "output_type": "execute_result"
    }
   ],
   "source": [
    "headers"
   ]
  },
  {
   "cell_type": "code",
   "execution_count": 27,
   "metadata": {},
   "outputs": [],
   "source": [
    " \n",
    "import hashlib"
   ]
  },
  {
   "cell_type": "code",
   "execution_count": 43,
   "metadata": {},
   "outputs": [
    {
     "data": {
      "text/plain": [
       "'101871c7d242a2d46b1ad2af8e7e4367aace38cb878959008c1a2f83975399c4efd32bd07'"
      ]
     },
     "execution_count": 43,
     "metadata": {},
     "output_type": "execute_result"
    }
   ],
   "source": [
    "result = hashlib.md5(b'101871c7d242a2d46b1ad2af8e7e4367aace38cb878959008c1a2f83975399c4efd32bd07')\n",
    "tohashkey"
   ]
  },
  {
   "cell_type": "code",
   "execution_count": 44,
   "metadata": {},
   "outputs": [],
   "source": [
    "hashed = result.digest()"
   ]
  },
  {
   "cell_type": "code",
   "execution_count": 49,
   "metadata": {},
   "outputs": [
    {
     "data": {
      "text/plain": [
       "'a0f6cb098dfe72c2a76a5d9f94635f49'"
      ]
     },
     "execution_count": 49,
     "metadata": {},
     "output_type": "execute_result"
    }
   ],
   "source": [
    "result.hexdigest()"
   ]
  },
  {
   "cell_type": "code",
   "execution_count": 46,
   "metadata": {},
   "outputs": [],
   "source": [
    "params={'ts':'1', 'apikey':apikey,'hash': hashed}\n",
    "response = requests.get(url, params=params)\n",
    "data = response.json()"
   ]
  },
  {
   "cell_type": "code",
   "execution_count": 50,
   "metadata": {},
   "outputs": [
    {
     "data": {
      "text/plain": [
       "'http://gateway.marvel.com/v1/public/comics'"
      ]
     },
     "execution_count": 50,
     "metadata": {},
     "output_type": "execute_result"
    }
   ],
   "source": [
    "url"
   ]
  },
  {
   "cell_type": "code",
   "execution_count": 2,
   "metadata": {},
   "outputs": [],
   "source": [
    "from marvel import Marvel"
   ]
  },
  {
   "cell_type": "code",
   "execution_count": null,
   "metadata": {},
   "outputs": [],
   "source": []
  },
  {
   "cell_type": "code",
   "execution_count": 5,
   "metadata": {},
   "outputs": [],
   "source": [
    "marvel = Marvel(PUBLIC_KEY=apikey, PRIVATE_KEY=privatekey)"
   ]
  },
  {
   "cell_type": "code",
   "execution_count": 5,
   "metadata": {},
   "outputs": [
    {
     "data": {
      "text/plain": [
       "<marvel.marvel.Marvel at 0x7fdf4ae95340>"
      ]
     },
     "execution_count": 5,
     "metadata": {},
     "output_type": "execute_result"
    }
   ],
   "source": [
    "marvel"
   ]
  },
  {
   "cell_type": "code",
   "execution_count": 6,
   "metadata": {},
   "outputs": [],
   "source": [
    "all = marvel.comics.all()"
   ]
  },
  {
   "cell_type": "code",
   "execution_count": 8,
   "metadata": {},
   "outputs": [
    {
     "data": {
      "text/plain": [
       "7"
      ]
     },
     "execution_count": 8,
     "metadata": {},
     "output_type": "execute_result"
    }
   ],
   "source": [
    "len(all)"
   ]
  },
  {
   "cell_type": "code",
   "execution_count": 7,
   "metadata": {},
   "outputs": [],
   "source": [
    "characters = marvel.characters\n",
    "all_characters = characters.all()\n",
    "# print(all_characters)"
   ]
  },
  {
   "cell_type": "code",
   "execution_count": 24,
   "metadata": {},
   "outputs": [
    {
     "data": {
      "text/plain": [
       "{'id': 1011136,\n",
       " 'name': 'Air-Walker (Gabriel Lan)',\n",
       " 'description': '',\n",
       " 'modified': '1969-12-31T19:00:00-0500',\n",
       " 'thumbnail': {'path': 'http://i.annihil.us/u/prod/marvel/i/mg/b/40/image_not_available',\n",
       "  'extension': 'jpg'},\n",
       " 'resourceURI': 'http://gateway.marvel.com/v1/public/characters/1011136',\n",
       " 'comics': {'available': 4,\n",
       "  'collectionURI': 'http://gateway.marvel.com/v1/public/characters/1011136/comics',\n",
       "  'items': [{'resourceURI': 'http://gateway.marvel.com/v1/public/comics/4108',\n",
       "    'name': 'Annihilation: Silver Surfer (2006) #1'},\n",
       "   {'resourceURI': 'http://gateway.marvel.com/v1/public/comics/5589',\n",
       "    'name': 'Heroes Reborn: Iron Man (Trade Paperback)'},\n",
       "   {'resourceURI': 'http://gateway.marvel.com/v1/public/comics/16330',\n",
       "    'name': 'Iron Man (1996) #11'},\n",
       "   {'resourceURI': 'http://gateway.marvel.com/v1/public/comics/16331',\n",
       "    'name': 'Iron Man (1996) #12'}],\n",
       "  'returned': 4},\n",
       " 'series': {'available': 3,\n",
       "  'collectionURI': 'http://gateway.marvel.com/v1/public/characters/1011136/series',\n",
       "  'items': [{'resourceURI': 'http://gateway.marvel.com/v1/public/series/1078',\n",
       "    'name': 'Annihilation: Silver Surfer (2006)'},\n",
       "   {'resourceURI': 'http://gateway.marvel.com/v1/public/series/1814',\n",
       "    'name': 'Heroes Reborn: Iron Man (2006)'},\n",
       "   {'resourceURI': 'http://gateway.marvel.com/v1/public/series/13577',\n",
       "    'name': 'Iron Man (1996 - 1998)'}],\n",
       "  'returned': 3},\n",
       " 'stories': {'available': 3,\n",
       "  'collectionURI': 'http://gateway.marvel.com/v1/public/characters/1011136/stories',\n",
       "  'items': [{'resourceURI': 'http://gateway.marvel.com/v1/public/stories/5925',\n",
       "    'name': 'Annihilation: Silver Surfer (2006) #1',\n",
       "    'type': 'cover'},\n",
       "   {'resourceURI': 'http://gateway.marvel.com/v1/public/stories/34082',\n",
       "    'name': 'Magical Mystery Tour',\n",
       "    'type': 'interiorStory'},\n",
       "   {'resourceURI': 'http://gateway.marvel.com/v1/public/stories/34085',\n",
       "    'name': 'Matters of the Heart',\n",
       "    'type': 'interiorStory'}],\n",
       "  'returned': 3},\n",
       " 'events': {'available': 1,\n",
       "  'collectionURI': 'http://gateway.marvel.com/v1/public/characters/1011136/events',\n",
       "  'items': [{'resourceURI': 'http://gateway.marvel.com/v1/public/events/229',\n",
       "    'name': 'Annihilation'}],\n",
       "  'returned': 1},\n",
       " 'urls': [{'type': 'detail',\n",
       "   'url': 'http://marvel.com/characters/109/air-walker?utm_campaign=apiRef&utm_source=78959008c1a2f83975399c4efd32bd07'},\n",
       "  {'type': 'wiki',\n",
       "   'url': 'http://marvel.com/universe/Air-Walker_(Gabriel_Lan)?utm_campaign=apiRef&utm_source=78959008c1a2f83975399c4efd32bd07'},\n",
       "  {'type': 'comiclink',\n",
       "   'url': 'http://marvel.com/comics/characters/1011136/air-walker_gabriel_lan?utm_campaign=apiRef&utm_source=78959008c1a2f83975399c4efd32bd07'}]}"
      ]
     },
     "execution_count": 24,
     "metadata": {},
     "output_type": "execute_result"
    }
   ],
   "source": [
    "all_characters['data']['results'][19]"
   ]
  },
  {
   "cell_type": "code",
   "execution_count": 45,
   "metadata": {},
   "outputs": [],
   "source": [
    "my_character = characters.all(name='black panther')['data']['results'][0]"
   ]
  },
  {
   "cell_type": "code",
   "execution_count": 45,
   "metadata": {},
   "outputs": [
    {
     "data": {
      "text/plain": [
       "'Black Panther'"
      ]
     },
     "execution_count": 45,
     "metadata": {},
     "output_type": "execute_result"
    }
   ],
   "source": [
    "my_character['name']"
   ]
  },
  {
   "cell_type": "code",
   "execution_count": 38,
   "metadata": {},
   "outputs": [],
   "source": [
    "comics_from_character = my_character['comics']"
   ]
  },
  {
   "cell_type": "code",
   "execution_count": 39,
   "metadata": {},
   "outputs": [
    {
     "data": {
      "text/plain": [
       "{'available': 691,\n",
       " 'collectionURI': 'http://gateway.marvel.com/v1/public/characters/1009187/comics',\n",
       " 'items': [{'resourceURI': 'http://gateway.marvel.com/v1/public/comics/43498',\n",
       "   'name': 'A+X (2012) #3'},\n",
       "  {'resourceURI': 'http://gateway.marvel.com/v1/public/comics/30885',\n",
       "   'name': 'AGE OF HEROES TPB (Trade Paperback)'},\n",
       "  {'resourceURI': 'http://gateway.marvel.com/v1/public/comics/16889',\n",
       "   'name': 'Amazing Spider-Man Annual (1964) #15'},\n",
       "  {'resourceURI': 'http://gateway.marvel.com/v1/public/comics/16900',\n",
       "   'name': 'Amazing Spider-Man Annual (1964) #25'},\n",
       "  {'resourceURI': 'http://gateway.marvel.com/v1/public/comics/62388',\n",
       "   'name': 'Astonishing Tales (1970) #6'},\n",
       "  {'resourceURI': 'http://gateway.marvel.com/v1/public/comics/43221',\n",
       "   'name': 'Astonishing X-Men (2004) #51 (Create Your Own Wedding Variant)'},\n",
       "  {'resourceURI': 'http://gateway.marvel.com/v1/public/comics/67002',\n",
       "   'name': 'Avengers (2018) #1'},\n",
       "  {'resourceURI': 'http://gateway.marvel.com/v1/public/comics/17490',\n",
       "   'name': 'Avengers (1998) #1'},\n",
       "  {'resourceURI': 'http://gateway.marvel.com/v1/public/comics/17501',\n",
       "   'name': 'Avengers (1998) #2'},\n",
       "  {'resourceURI': 'http://gateway.marvel.com/v1/public/comics/67311',\n",
       "   'name': 'Avengers (2018) #2'},\n",
       "  {'resourceURI': 'http://gateway.marvel.com/v1/public/comics/17512',\n",
       "   'name': 'Avengers (1998) #3'},\n",
       "  {'resourceURI': 'http://gateway.marvel.com/v1/public/comics/17523',\n",
       "   'name': 'Avengers (1998) #4'},\n",
       "  {'resourceURI': 'http://gateway.marvel.com/v1/public/comics/67763',\n",
       "   'name': 'Avengers (2018) #6'},\n",
       "  {'resourceURI': 'http://gateway.marvel.com/v1/public/comics/67769',\n",
       "   'name': 'Avengers (2018) #12'},\n",
       "  {'resourceURI': 'http://gateway.marvel.com/v1/public/comics/17500',\n",
       "   'name': 'Avengers (1998) #19'},\n",
       "  {'resourceURI': 'http://gateway.marvel.com/v1/public/comics/17502',\n",
       "   'name': 'Avengers (1998) #20'},\n",
       "  {'resourceURI': 'http://gateway.marvel.com/v1/public/comics/17503',\n",
       "   'name': 'Avengers (1998) #21'},\n",
       "  {'resourceURI': 'http://gateway.marvel.com/v1/public/comics/17504',\n",
       "   'name': 'Avengers (1998) #22'},\n",
       "  {'resourceURI': 'http://gateway.marvel.com/v1/public/comics/17505',\n",
       "   'name': 'Avengers (1998) #23'},\n",
       "  {'resourceURI': 'http://gateway.marvel.com/v1/public/comics/77939',\n",
       "   'name': 'Avengers (2018) #36'}],\n",
       " 'returned': 20}"
      ]
     },
     "execution_count": 39,
     "metadata": {},
     "output_type": "execute_result"
    }
   ],
   "source": [
    "comics_from_character"
   ]
  },
  {
   "cell_type": "code",
   "execution_count": 50,
   "metadata": {},
   "outputs": [],
   "source": [
    "chars = characters.all(nameStartsWith=\"Black\")['data']['results']\n"
   ]
  },
  {
   "cell_type": "code",
   "execution_count": 58,
   "metadata": {},
   "outputs": [
    {
     "name": "stdout",
     "output_type": "stream",
     "text": [
      "1009183 Black Bird\n",
      "=================\n",
      "1009184 Black Bolt\n",
      "Avengers (1963) #95 with id: 7349\n",
      "Avengers (1963) #127 with id: 6983\n",
      "Avengers (1963) #188 with id: 7050\n",
      "Avengers (1963) #221 with id: 7088\n",
      "Avengers Academy (2010) #2 (2ND PRINTING VARIANT) with id: 37287\n",
      "Black Bolt (2017) #1 with id: 63431\n",
      "Black Bolt (2017) #2 with id: 63166\n",
      "Black Bolt (2017) #3 with id: 63662\n",
      "Black Bolt (2017) #4 with id: 64278\n",
      "Black Bolt (2017) #5 with id: 64607\n",
      "Black Bolt (2017) #6 with id: 64884\n",
      "Black Bolt (2017) #7 with id: 65058\n",
      "Black Bolt (2017) #8 with id: 65267\n",
      "Black Bolt (2017) #9 with id: 65436\n",
      "Black Bolt (2017) #10 with id: 66268\n",
      "Black Bolt (2017) #11 with id: 66533\n",
      "Black Bolt (2017) #12 with id: 66898\n",
      "Black Bolt (Hardcover) with id: 78057\n",
      "Black Bolt Vol. 1: Hard Time (Trade Paperback) with id: 65327\n",
      "Black Bolt Vol. 2: Home Free (Trade Paperback) with id: 67314\n",
      "=================\n",
      "1017330 Black Bolt (Marvel War of Heroes)\n",
      "=================\n",
      "1009185 Black Cat\n",
      "The Amazing Spider-Man (1963) #335 with id: 6744\n",
      "The Amazing Spider-Man (1963) #379 with id: 6792\n",
      "The Amazing Spider-Man (1963) #380 with id: 6794\n",
      "Amazing Spider-Man (1999) #605 with id: 24412\n",
      "Amazing Spider-Man (1999) #606 with id: 24413\n",
      "Amazing Spider-Man (1999) #607 with id: 24414\n",
      "Amazing Spider-Man (1999) #612 (VARIANT) with id: 28710\n",
      "Amazing Spider-Man (1999) #621 with id: 28226\n",
      "Amazing Spider-Man (1999) #622 with id: 28227\n",
      "Amazing Spider-Man (1999) #630 with id: 30305\n",
      "Amazing Spider-Man (1999) #630 (QUINONES VARIANT) with id: 32402\n",
      "Amazing Spider-Man (1999) #632 (HEROIC AGE VARIANT) with id: 33328\n",
      "Amazing Spider-Man (1999) #648 with id: 34135\n",
      "Amazing Spider-Man (1999) #648 (2ND PRINTING VARIANT) with id: 38844\n",
      "Amazing Spider-Man (1999) #648 (CASELLI VARIANT) with id: 37045\n",
      "Amazing Spider-Man (1999) #648 (CAMPBELL VARIANT) with id: 30323\n",
      "Amazing Spider-Man (1999) #648 (BLANK COVER VARIANT) with id: 36937\n",
      "Amazing Spider-Man (1999) #648 (WRAPAROUND VARIANT) with id: 37073\n",
      "Amazing Spider-Man (1999) #649 with id: 30324\n",
      "Amazing Spider-Man (1999) #649 (2ND PRINTING VARIANT) with id: 38841\n",
      "=================\n",
      "1010910 Black Cat (Ultimate)\n",
      "Ultimate Comics Spider-Man (2009) #151 with id: 37460\n",
      "Ultimate Comics Spider-Man (2009) #152 with id: 37462\n",
      "Ultimate Comics Spider-Man (2009) #153 with id: 37459\n",
      "Ultimate Comics Spider-Man (2009) #154 with id: 37466\n",
      "Ultimate Spider-Man (2000) #84 with id: 2416\n",
      "=================\n",
      "1010859 Black Crow\n",
      "Doctor Strange, Sorcerer Supreme (1988) #25 with id: 20185\n",
      "=================\n",
      "1011809 Black Knight (Dane Whitman)\n",
      "Avengers (1963) #48 with id: 7297\n",
      "Avengers (1963) #54 with id: 7304\n",
      "Avengers (1963) #55 with id: 7305\n",
      "Avengers (1963) #61 with id: 7312\n",
      "Avengers (1963) #62 with id: 7313\n",
      "Avengers (1963) #71 with id: 7323\n",
      "Avengers (1963) #84 with id: 7337\n",
      "Avengers (1963) #85 with id: 7338\n",
      "Avengers (1963) #100 with id: 6954\n",
      "Avengers (1963) #225 with id: 7092\n",
      "Avengers (1963) #267 with id: 7138\n",
      "Avengers (1963) #271 with id: 7143\n",
      "Avengers (1963) #281 with id: 7154\n",
      "Avengers (1963) #282 with id: 7155\n",
      "Avengers (1963) #283 with id: 7156\n",
      "Avengers (1963) #284 with id: 7157\n",
      "Avengers (1963) #285 with id: 7158\n",
      "Avengers (1963) #286 with id: 7159\n",
      "Avengers (1963) #287 with id: 7160\n",
      "Avengers (1963) #288 with id: 7161\n",
      "=================\n",
      "1009186 Black Knight (Sir Percy of Scandia)\n",
      "Alpha Flight (1983) #61 with id: 12725\n",
      "Alpha Flight (1983) #110 with id: 12650\n",
      "Avengers (1998) #1 with id: 17490\n",
      "Avengers (1998) #2 with id: 17501\n",
      "Avengers (1998) #3 with id: 17512\n",
      "Avengers (1998) #4 with id: 17523\n",
      "Avengers (1996) #8 with id: 17762\n",
      "Avengers (1996) #9 with id: 17763\n",
      "Avengers (1998) #16 with id: 17497\n",
      "Avengers (1998) #17 with id: 17498\n",
      "Avengers (1998) #18 with id: 17499\n",
      "Avengers (1998) #38 with id: 17521\n",
      "Avengers (1998) #40 with id: 17524\n",
      "Avengers (1998) #41 with id: 17525\n",
      "Avengers (1998) #42 with id: 17526\n",
      "Avengers (1998) #44 with id: 17528\n",
      "Avengers (1998) #46 with id: 17530\n",
      "Avengers (1998) #48 with id: 17532\n",
      "Avengers (1998) #52 with id: 17537\n",
      "Avengers (1998) #53 with id: 17538\n",
      "=================\n",
      "1009187 Black Panther\n",
      "A+X (2012) #3 with id: 43498\n",
      "AGE OF HEROES TPB (Trade Paperback) with id: 30885\n",
      "Amazing Spider-Man Annual (1964) #15 with id: 16889\n",
      "Amazing Spider-Man Annual (1964) #25 with id: 16900\n",
      "Astonishing Tales (1970) #6 with id: 62388\n",
      "Astonishing X-Men (2004) #51 (Create Your Own Wedding Variant) with id: 43221\n",
      "Avengers (2018) #1 with id: 67002\n",
      "Avengers (1998) #1 with id: 17490\n",
      "Avengers (1998) #2 with id: 17501\n",
      "Avengers (2018) #2 with id: 67311\n",
      "Avengers (1998) #3 with id: 17512\n",
      "Avengers (1998) #4 with id: 17523\n",
      "Avengers (2018) #6 with id: 67763\n",
      "Avengers (2018) #12 with id: 67769\n",
      "Avengers (1998) #19 with id: 17500\n",
      "Avengers (1998) #20 with id: 17502\n",
      "Avengers (1998) #21 with id: 17503\n",
      "Avengers (1998) #22 with id: 17504\n",
      "Avengers (1998) #23 with id: 17505\n",
      "Avengers (2018) #36 with id: 77939\n",
      "=================\n",
      "1017838 Black Panther (Shuri)\n",
      "Black Panther (2009) #1 with id: 23657\n",
      "Black Panther (2009) #2 with id: 27540\n",
      "Black Panther (2021) #4 with id: 92208\n",
      "Black Panther (2021) #5 with id: 92209\n",
      "Black Panther (2021) #6 with id: 92210\n",
      "Black Panther (2021) #7 with id: 92211\n",
      "Black Panther (2016) #9 with id: 57390\n",
      "Black Panther (2016) #10 with id: 57391\n",
      "Black Panther (2016) #11 with id: 57392\n",
      "Black Panther (2018) #15 with id: 70740\n",
      "Black Panther (2016) #15 with id: 60931\n",
      "Black Panther (2018) #24 with id: 77794\n",
      "Black Panther (2018) #25 with id: 90058\n",
      "Black Panther (2016) #170 with id: 66269\n",
      "Black Panther by Reginald Hudlin: The Complete Collection Vol. 3 (Trade Paperback) with id: 66089\n",
      "BLACK PANTHER VOL. 1: A NATION UNDER OUR FEET HC (Hardcover) with id: 60555\n",
      "Black Panther: Shuri - The Deadliest of the Species (Trade Paperback) with id: 70450\n",
      "Fortnite X Marvel: Zero War (2022) #1 with id: 102409\n",
      "King In Black: Black Panther  (2021) #1 with id: 91745\n",
      "Klaws of the Panther (2010) #1 with id: 34557\n",
      "=================\n",
      "1011130 Black Panther (Ultimate)\n",
      "Ultimate Captain America Annual (2008) #1 with id: 22377\n",
      "Ultimate Comics New Ultimates (2010) #2 with id: 30602\n",
      "Ultimates 3 (2007) #1 with id: 17378\n",
      "Ultimates 3 (2007) #1 (Gatefold Variant) with id: 17377\n",
      "Ultimates 3 (2007) #3 with id: 20663\n",
      "Ultimates 3 (2007) #4 with id: 20818\n",
      "Ultimates 3 (2007) #5 with id: 26923\n",
      "Ultimates 3: Who Killed the Scarlet Witch? (Trade Paperback) with id: 24316\n",
      "=================\n",
      "1010356 Black Queen\n",
      "Captain America (1968) #369 with id: 7750\n",
      "X-Men Unlimited (1993) #33 with id: 18136\n",
      "=================\n",
      "1010687 Black Tarantula\n",
      "Amazing Spider-Girl (2006) #5 with id: 5997\n",
      "Amazing Spider-Girl (2006) #17 with id: 70668\n",
      "Amazing Spider-Girl (2006) #27 with id: 22903\n",
      "Daredevil (1998) #114 with id: 22860\n",
      "Daredevil (1998) #115 with id: 23075\n",
      "Daredevil (1998) #119 with id: 24756\n",
      "Daredevil (1998) #500 with id: 24757\n",
      "Daredevil (1998) #510 with id: 30369\n",
      "Daredevil Annual (2007) #1 with id: 20778\n",
      "DAREDEVIL BY ED BRUBAKER & MICHAEL LARK OMNIBUS VOL. 2 HC [NEW PRINTING] (Hardcover) with id: 62131\n",
      "Daredevil Saga (2008) #1 with id: 22455\n",
      "Daredevil: Blood of the Tarantula (2008) #1 with id: 20954\n",
      "ESSENTIAL PETER PARKER, THE SPECTACULAR SPIDER-MAN (Trade Paperback) with id: 1585\n",
      "Peter Parker, the Spectacular Spider-Man (1976) #1 with id: 14542\n",
      "Shadowland (2010) #2 with id: 29704\n",
      "Shadowland (2010) #3 with id: 29705\n",
      "The Amazing Spider-Man (1963) #419 with id: 6837\n",
      "The Amazing Spider-Man (1963) #428 with id: 6847\n",
      "The Amazing Spider-Man (1963) #432 with id: 6852\n",
      "The Amazing Spider-Man (1963) #434 with id: 6854\n",
      "=================\n",
      "1009188 Black Tom\n",
      "Classic X-Men (1986) #11 with id: 20565\n",
      "Empyre: X-Men (2020) #2 with id: 88647\n",
      "Empyre: X-Men (2020) #3 with id: 88648\n",
      "House of M: Uncanny X-Men (Trade Paperback) with id: 3463\n",
      "Uncanny X-Men (1963) #361 with id: 13902\n",
      "Uncanny X-Men (1963) #464 with id: 2815\n",
      "Uncanny X-Men Omnibus Vol. 1 (Hardcover) with id: 4100\n",
      "X-Force (1991) #1 with id: 17942\n",
      "X-Force (1991) #2 with id: 17983\n",
      "X-Force (1991) #3 with id: 17994\n",
      "X-Force (1991) #4 with id: 18005\n",
      "X-Force: Force to Be Reckoned with (2011) with id: 37377\n",
      "Uncanny X-Men (1963) #102 with id: 12417\n",
      "Uncanny X-Men (1963) #103 with id: 12418\n",
      "X-Men Unlimited Infinity Comic (2021) #26 with id: 94172\n",
      "=================\n",
      "1009189 Black Widow\n",
      "A+X (2012) #2 with id: 43495\n",
      "A+X (2012) #10 with id: 43509\n",
      "Adam: Legend of the Blue Marvel (2008) #1 with id: 22461\n",
      "Amazing Adventures (1970) #1 with id: 23245\n",
      "Amazing Adventures (1970) #2 with id: 23256\n",
      "Amazing Adventures (1970) #3 with id: 23267\n",
      "Amazing Adventures (1970) #4 with id: 23278\n",
      "Amazing Adventures (1970) #5 with id: 23279\n",
      "Amazing Adventures (1970) #6 with id: 23280\n",
      "Amazing Adventures (1970) #7 with id: 23281\n",
      "Amazing Adventures (1970) #8 with id: 23282\n",
      "Amazing Fantasy (2021) #1 with id: 71245\n",
      "Amazing Fantasy (2021) #2 with id: 71246\n",
      "Amazing Fantasy (2021) #4 with id: 71248\n",
      "Amazing Fantasy (2021) #5 with id: 71893\n",
      "Amazing Fantasy Treasury Edition (Trade Paperback) with id: 94700\n",
      "Amazing Spider-Man (1999) #684 with id: 40109\n",
      "Amazing Spider-Man (1999) #685 with id: 40116\n",
      "Amazing Spider-Man (1999) #686 with id: 40115\n",
      "Amazing Spider-Man (1999) #687 with id: 40113\n",
      "=================\n",
      "1017296 Black Widow (LEGO Marvel Super Heroes)\n",
      "=================\n",
      "1010911 Black Widow (Ultimate)\n",
      "Ultimate Avengers (2009) #4 with id: 26843\n",
      "Ultimate Avengers 3 (2010) #5 with id: 30598\n",
      "Ultimate Marvel Team-Up (2001) #14 with id: 15773\n",
      "Ultimate Marvel Team-Up Ultimate Collection (Trade Paperback) with id: 5132\n",
      "Ultimate Nightmare (2004) #1 with id: 568\n",
      "Ultimate Nightmare (2004) #2 with id: 817\n",
      "Ultimate Nightmare (2004) #3 with id: 869\n",
      "Ultimate Nightmare (2004) #4 with id: 41\n",
      "Ultimate Nightmare (2004) #5 with id: 1439\n",
      "Ultimate War (2003) #1 with id: 18474\n",
      "Ultimate War (2003) #3 with id: 18476\n",
      "Ultimate War (2003) #4 with id: 18477\n",
      "Ultimate X-Men (2001) #35 with id: 15727\n",
      "Ultimate X-Men (2001) #64 with id: 2476\n",
      "ULTIMATE X-MEN VOL. 5: ULTIMATE WAR TPB (Trade Paperback) with id: 1158\n",
      "Ultimates 3 (2007) #1 with id: 17378\n",
      "Ultimates 3 (2007) #2 with id: 17618\n",
      "Ultimates 3: Who Killed the Scarlet Witch? (Trade Paperback) with id: 24316\n",
      "=================\n",
      "1011498 Black Widow (Yelena Belova)\n",
      "Black Widow (2020) #8 with id: 93020\n",
      "Black Widow (2020) #9 with id: 93021\n",
      "Black Widow (2020) #10 with id: 93022\n",
      "Black Widow (2020) #11 with id: 95776\n",
      "Black Widow (2020) #15 with id: 95780\n",
      "Tales of Suspense (2017) #102 with id: 66295\n",
      "Tales of Suspense (2017) #103 with id: 66559\n",
      "Tales of Suspense: Hawkeye & The Winter Soldier (Trade Paperback) with id: 67562\n",
      "Wastelanders: Black Widow (2022) #1 with id: 94158\n",
      "Widowmakers: Red Guardian and Yelena Belova (2020) #1 with id: 88708\n",
      "Winter Guard (2021) #1 with id: 92302\n",
      "Winter Guard (2021) #2 with id: 92304\n",
      "Winter Guard (2021) #3 with id: 92305\n",
      "Winter Guard (2021) #4 with id: 92306\n",
      "=================\n",
      "1017109 Black Widow/Natasha Romanoff (MAA)\n",
      "Avengers (1963) #364 with id: 7246\n",
      "=================\n",
      "1009190 Blackheart\n",
      "Daredevil (1964) #270 with id: 8263\n",
      "Daredevil (1964) #278 with id: 8271\n",
      "Falcon (2017) #1 with id: 64804\n",
      "Falcon (2017) #2 with id: 65071\n",
      "Falcon (2017) #3 with id: 65280\n",
      "Falcon (2017) #5 with id: 66199\n",
      "X-Force (1991) #74 with id: 18043\n",
      "X-Force (1991) #98 with id: 18069\n",
      "=================\n"
     ]
    }
   ],
   "source": [
    "for char in chars:\n",
    "    print(char['id'], char['name'])\n",
    "    for comic in char['comics']['items']:\n",
    "        id = comic['resourceURI'].split('/')[-1]\n",
    "        print(comic['name'], f'with id: {id}')\n",
    "    print('=================')"
   ]
  },
  {
   "cell_type": "code",
   "execution_count": 12,
   "metadata": {},
   "outputs": [
    {
     "name": "stdout",
     "output_type": "stream",
     "text": [
      "character\n",
      "{'id': 1009664, 'name': 'Thor', 'description': \"As the Norse God of thunder and lightning, Thor wields one of the greatest weapons ever made, the enchanted hammer Mjolnir. While others have described Thor as an over-muscled, oafish imbecile, he's quite smart and compassionate.  He's self-assured, and he would never, ever stop fighting for a worthwhile cause.\", 'modified': '2020-03-11T10:18:57-0400', 'thumbnail': {'path': 'http://i.annihil.us/u/prod/marvel/i/mg/d/d0/5269657a74350', 'extension': 'jpg'}, 'resourceURI': 'http://gateway.marvel.com/v1/public/characters/1009664', 'comics': {'available': 1824, 'collectionURI': 'http://gateway.marvel.com/v1/public/characters/1009664/comics', 'items': [{'resourceURI': 'http://gateway.marvel.com/v1/public/comics/43506', 'name': 'A+X (2012) #7'}, {'resourceURI': 'http://gateway.marvel.com/v1/public/comics/30090', 'name': 'Age of Heroes (2010) #1'}, {'resourceURI': 'http://gateway.marvel.com/v1/public/comics/33566', 'name': 'Age of Heroes (2010) #2'}, {'resourceURI': 'http://gateway.marvel.com/v1/public/comics/30092', 'name': 'Age of Heroes (2010) #3'}, {'resourceURI': 'http://gateway.marvel.com/v1/public/comics/30093', 'name': 'Age of Heroes (2010) #4'}, {'resourceURI': 'http://gateway.marvel.com/v1/public/comics/100083', 'name': 'Alligator Loki Infinity Comic (2022) #1'}, {'resourceURI': 'http://gateway.marvel.com/v1/public/comics/100084', 'name': 'Alligator Loki Infinity Comic (2022) #2'}, {'resourceURI': 'http://gateway.marvel.com/v1/public/comics/100086', 'name': 'Alligator Loki Infinity Comic (2022) #4'}, {'resourceURI': 'http://gateway.marvel.com/v1/public/comics/46852', 'name': 'Alpha: Big Time (2013) #4'}, {'resourceURI': 'http://gateway.marvel.com/v1/public/comics/12637', 'name': 'Alpha Flight (1983) #1'}, {'resourceURI': 'http://gateway.marvel.com/v1/public/comics/12725', 'name': 'Alpha Flight (1983) #61'}, {'resourceURI': 'http://gateway.marvel.com/v1/public/comics/12668', 'name': 'Alpha Flight (1983) #127'}, {'resourceURI': 'http://gateway.marvel.com/v1/public/comics/6748', 'name': 'The Amazing Spider-Man (1963) #339'}, {'resourceURI': 'http://gateway.marvel.com/v1/public/comics/277', 'name': 'Amazing Spider-Man (1999) #500'}, {'resourceURI': 'http://gateway.marvel.com/v1/public/comics/5808', 'name': 'Amazing Spider-Man (1999) #538'}, {'resourceURI': 'http://gateway.marvel.com/v1/public/comics/16904', 'name': 'Amazing Spider-Man Annual (1964) #3'}, {'resourceURI': 'http://gateway.marvel.com/v1/public/comics/16890', 'name': 'Amazing Spider-Man Annual (1964) #16'}, {'resourceURI': 'http://gateway.marvel.com/v1/public/comics/1262', 'name': 'Amazing Spider-Man Vol. 6 (Trade Paperback)'}, {'resourceURI': 'http://gateway.marvel.com/v1/public/comics/39896', 'name': 'Art of Marvel Studios TPB Slipcase (Hardcover)'}, {'resourceURI': 'http://gateway.marvel.com/v1/public/comics/32769', 'name': 'Astonishing Thor (2010) #1'}], 'returned': 20}, 'series': {'available': 530, 'collectionURI': 'http://gateway.marvel.com/v1/public/characters/1009664/series', 'items': [{'resourceURI': 'http://gateway.marvel.com/v1/public/series/16450', 'name': 'A+X (2012 - 2014)'}, {'resourceURI': 'http://gateway.marvel.com/v1/public/series/9790', 'name': 'Age of Heroes (2010)'}, {'resourceURI': 'http://gateway.marvel.com/v1/public/series/34402', 'name': 'Alligator Loki Infinity Comic (2022)'}, {'resourceURI': 'http://gateway.marvel.com/v1/public/series/2116', 'name': 'Alpha Flight (1983 - 1994)'}, {'resourceURI': 'http://gateway.marvel.com/v1/public/series/17650', 'name': 'Alpha: Big Time (2013)'}, {'resourceURI': 'http://gateway.marvel.com/v1/public/series/454', 'name': 'Amazing Spider-Man (1999 - 2013)'}, {'resourceURI': 'http://gateway.marvel.com/v1/public/series/2984', 'name': 'Amazing Spider-Man Annual (1964 - 2018)'}, {'resourceURI': 'http://gateway.marvel.com/v1/public/series/318', 'name': 'Amazing Spider-Man Vol. 6 (2004)'}, {'resourceURI': 'http://gateway.marvel.com/v1/public/series/14779', 'name': 'Art of Marvel Studios TPB Slipcase (2011 - Present)'}, {'resourceURI': 'http://gateway.marvel.com/v1/public/series/9858', 'name': 'Astonishing Thor (2010)'}, {'resourceURI': 'http://gateway.marvel.com/v1/public/series/744', 'name': 'Astonishing X-Men (2004 - 2013)'}, {'resourceURI': 'http://gateway.marvel.com/v1/public/series/1991', 'name': 'Avengers (1963 - 1996)'}, {'resourceURI': 'http://gateway.marvel.com/v1/public/series/24229', 'name': 'Avengers (2018 - Present)'}, {'resourceURI': 'http://gateway.marvel.com/v1/public/series/9085', 'name': 'Avengers (2010 - 2012)'}, {'resourceURI': 'http://gateway.marvel.com/v1/public/series/3621', 'name': 'Avengers (1996 - 1997)'}, {'resourceURI': 'http://gateway.marvel.com/v1/public/series/22547', 'name': 'Avengers (2016 - 2018)'}, {'resourceURI': 'http://gateway.marvel.com/v1/public/series/354', 'name': 'Avengers (1998 - 2004)'}, {'resourceURI': 'http://gateway.marvel.com/v1/public/series/9859', 'name': 'Avengers & the Infinity Gauntlet (2010)'}, {'resourceURI': 'http://gateway.marvel.com/v1/public/series/9086', 'name': 'Avengers Academy (2010 - 2012)'}, {'resourceURI': 'http://gateway.marvel.com/v1/public/series/13320', 'name': 'Avengers Annual (2012)'}], 'returned': 20}, 'stories': {'available': 2737, 'collectionURI': 'http://gateway.marvel.com/v1/public/characters/1009664/stories', 'items': [{'resourceURI': 'http://gateway.marvel.com/v1/public/stories/876', 'name': 'THOR (1998) #76', 'type': 'cover'}, {'resourceURI': 'http://gateway.marvel.com/v1/public/stories/877', 'name': 'Interior #877', 'type': 'interiorStory'}, {'resourceURI': 'http://gateway.marvel.com/v1/public/stories/879', 'name': 'Interior #879', 'type': 'interiorStory'}, {'resourceURI': 'http://gateway.marvel.com/v1/public/stories/880', 'name': 'THOR (1998) #77', 'type': 'cover'}, {'resourceURI': 'http://gateway.marvel.com/v1/public/stories/881', 'name': 'Interior #881', 'type': 'interiorStory'}, {'resourceURI': 'http://gateway.marvel.com/v1/public/stories/882', 'name': 'THOR (1998) #83', 'type': 'cover'}, {'resourceURI': 'http://gateway.marvel.com/v1/public/stories/883', 'name': 'Interior #883', 'type': 'interiorStory'}, {'resourceURI': 'http://gateway.marvel.com/v1/public/stories/884', 'name': 'THOR (1998) #82', 'type': 'cover'}, {'resourceURI': 'http://gateway.marvel.com/v1/public/stories/885', 'name': 'Interior #885', 'type': 'interiorStory'}, {'resourceURI': 'http://gateway.marvel.com/v1/public/stories/886', 'name': 'THOR (1998) #78', 'type': 'cover'}, {'resourceURI': 'http://gateway.marvel.com/v1/public/stories/887', 'name': 'Interior #887', 'type': 'interiorStory'}, {'resourceURI': 'http://gateway.marvel.com/v1/public/stories/888', 'name': 'THOR (1998) #79', 'type': 'cover'}, {'resourceURI': 'http://gateway.marvel.com/v1/public/stories/889', 'name': 'Interior #889', 'type': 'interiorStory'}, {'resourceURI': 'http://gateway.marvel.com/v1/public/stories/890', 'name': 'THOR (1998) #80', 'type': 'cover'}, {'resourceURI': 'http://gateway.marvel.com/v1/public/stories/891', 'name': 'Interior #891', 'type': 'interiorStory'}, {'resourceURI': 'http://gateway.marvel.com/v1/public/stories/892', 'name': 'THOR (1998) #81', 'type': 'cover'}, {'resourceURI': 'http://gateway.marvel.com/v1/public/stories/893', 'name': 'Interior #893', 'type': 'interiorStory'}, {'resourceURI': 'http://gateway.marvel.com/v1/public/stories/894', 'name': 'THOR (1998) #84', 'type': 'cover'}, {'resourceURI': 'http://gateway.marvel.com/v1/public/stories/895', 'name': 'AVENGERS DISASSEMBLED TIE-IN! “RAGNAROK” PART 4 (OF 6) What makes a god? Is it birthright, is it happenstance, or is it in the m', 'type': 'interiorStory'}, {'resourceURI': 'http://gateway.marvel.com/v1/public/stories/896', 'name': 'THOR (1998) #85', 'type': 'cover'}], 'returned': 20}, 'events': {'available': 27, 'collectionURI': 'http://gateway.marvel.com/v1/public/characters/1009664/events', 'items': [{'resourceURI': 'http://gateway.marvel.com/v1/public/events/116', 'name': 'Acts of Vengeance!'}, {'resourceURI': 'http://gateway.marvel.com/v1/public/events/233', 'name': 'Atlantis Attacks'}, {'resourceURI': 'http://gateway.marvel.com/v1/public/events/234', 'name': 'Avengers Disassembled'}, {'resourceURI': 'http://gateway.marvel.com/v1/public/events/310', 'name': 'Avengers VS X-Men'}, {'resourceURI': 'http://gateway.marvel.com/v1/public/events/235', 'name': 'Blood and Thunder'}, {'resourceURI': 'http://gateway.marvel.com/v1/public/events/296', 'name': 'Chaos War'}, {'resourceURI': 'http://gateway.marvel.com/v1/public/events/238', 'name': 'Civil War'}, {'resourceURI': 'http://gateway.marvel.com/v1/public/events/318', 'name': 'Dark Reign'}, {'resourceURI': 'http://gateway.marvel.com/v1/public/events/246', 'name': 'Evolutionary War'}, {'resourceURI': 'http://gateway.marvel.com/v1/public/events/302', 'name': 'Fear Itself'}, {'resourceURI': 'http://gateway.marvel.com/v1/public/events/252', 'name': 'Inferno'}, {'resourceURI': 'http://gateway.marvel.com/v1/public/events/315', 'name': 'Infinity'}, {'resourceURI': 'http://gateway.marvel.com/v1/public/events/29', 'name': 'Infinity War'}, {'resourceURI': 'http://gateway.marvel.com/v1/public/events/317', 'name': 'Inhumanity'}, {'resourceURI': 'http://gateway.marvel.com/v1/public/events/311', 'name': 'Marvel NOW!'}, {'resourceURI': 'http://gateway.marvel.com/v1/public/events/37', 'name': 'Maximum Security'}, {'resourceURI': 'http://gateway.marvel.com/v1/public/events/263', 'name': 'Mutant Massacre'}, {'resourceURI': 'http://gateway.marvel.com/v1/public/events/154', 'name': 'Onslaught'}, {'resourceURI': 'http://gateway.marvel.com/v1/public/events/319', 'name': 'Original Sin'}, {'resourceURI': 'http://gateway.marvel.com/v1/public/events/336', 'name': 'Secret Empire'}], 'returned': 20}, 'urls': [{'type': 'detail', 'url': 'http://marvel.com/comics/characters/1009664/thor?utm_campaign=apiRef&utm_source=78959008c1a2f83975399c4efd32bd07'}, {'type': 'wiki', 'url': 'http://marvel.com/universe/Thor_(Thor_Odinson)?utm_campaign=apiRef&utm_source=78959008c1a2f83975399c4efd32bd07'}, {'type': 'comiclink', 'url': 'http://marvel.com/comics/characters/1009664/thor?utm_campaign=apiRef&utm_source=78959008c1a2f83975399c4efd32bd07'}]}\n"
     ]
    }
   ],
   "source": [
    "print('character')\n",
    "try:\n",
    "    my_character = characters.all(name='thor')['data']['results'][0]\n",
    "    print(my_character)\n",
    "except Exception as err: \n",
    "    print('morido')\n",
    "    # raise HTTPException(status_code=status.HTTP_400_BAD_REQUEST, detail=f'invalid keyword\\t{err}')\n",
    "\n",
    "# return my_character"
   ]
  },
  {
   "cell_type": "code",
   "execution_count": 20,
   "metadata": {},
   "outputs": [
    {
     "data": {
      "text/plain": [
       "{'path': 'http://i.annihil.us/u/prod/marvel/i/mg/d/d0/5269657a74350',\n",
       " 'extension': 'jpg'}"
      ]
     },
     "execution_count": 20,
     "metadata": {},
     "output_type": "execute_result"
    }
   ],
   "source": [
    "my_character['thumbnail']"
   ]
  },
  {
   "cell_type": "code",
   "execution_count": 24,
   "metadata": {},
   "outputs": [],
   "source": [
    "image = f\"{my_character['thumbnail']['path']}.{my_character['thumbnail']['extension']}\""
   ]
  },
  {
   "cell_type": "markdown",
   "metadata": {},
   "source": []
  },
  {
   "cell_type": "code",
   "execution_count": 23,
   "metadata": {},
   "outputs": [
    {
     "data": {
      "text/plain": [
       "'http://i.annihil.us/u/prod/marvel/i/mg/d/d0/5269657a74350.jpg'"
      ]
     },
     "execution_count": 23,
     "metadata": {},
     "output_type": "execute_result"
    }
   ],
   "source": [
    "image"
   ]
  },
  {
   "cell_type": "code",
   "execution_count": 25,
   "metadata": {},
   "outputs": [
    {
     "data": {
      "text/plain": [
       "{'id': 1009664,\n",
       " 'name': 'Thor',\n",
       " 'description': \"As the Norse God of thunder and lightning, Thor wields one of the greatest weapons ever made, the enchanted hammer Mjolnir. While others have described Thor as an over-muscled, oafish imbecile, he's quite smart and compassionate.  He's self-assured, and he would never, ever stop fighting for a worthwhile cause.\",\n",
       " 'modified': '2020-03-11T10:18:57-0400',\n",
       " 'thumbnail': {'path': 'http://i.annihil.us/u/prod/marvel/i/mg/d/d0/5269657a74350',\n",
       "  'extension': 'jpg'},\n",
       " 'resourceURI': 'http://gateway.marvel.com/v1/public/characters/1009664',\n",
       " 'comics': {'available': 1824,\n",
       "  'collectionURI': 'http://gateway.marvel.com/v1/public/characters/1009664/comics',\n",
       "  'items': [{'resourceURI': 'http://gateway.marvel.com/v1/public/comics/43506',\n",
       "    'name': 'A+X (2012) #7'},\n",
       "   {'resourceURI': 'http://gateway.marvel.com/v1/public/comics/30090',\n",
       "    'name': 'Age of Heroes (2010) #1'},\n",
       "   {'resourceURI': 'http://gateway.marvel.com/v1/public/comics/33566',\n",
       "    'name': 'Age of Heroes (2010) #2'},\n",
       "   {'resourceURI': 'http://gateway.marvel.com/v1/public/comics/30092',\n",
       "    'name': 'Age of Heroes (2010) #3'},\n",
       "   {'resourceURI': 'http://gateway.marvel.com/v1/public/comics/30093',\n",
       "    'name': 'Age of Heroes (2010) #4'},\n",
       "   {'resourceURI': 'http://gateway.marvel.com/v1/public/comics/100083',\n",
       "    'name': 'Alligator Loki Infinity Comic (2022) #1'},\n",
       "   {'resourceURI': 'http://gateway.marvel.com/v1/public/comics/100084',\n",
       "    'name': 'Alligator Loki Infinity Comic (2022) #2'},\n",
       "   {'resourceURI': 'http://gateway.marvel.com/v1/public/comics/100086',\n",
       "    'name': 'Alligator Loki Infinity Comic (2022) #4'},\n",
       "   {'resourceURI': 'http://gateway.marvel.com/v1/public/comics/46852',\n",
       "    'name': 'Alpha: Big Time (2013) #4'},\n",
       "   {'resourceURI': 'http://gateway.marvel.com/v1/public/comics/12637',\n",
       "    'name': 'Alpha Flight (1983) #1'},\n",
       "   {'resourceURI': 'http://gateway.marvel.com/v1/public/comics/12725',\n",
       "    'name': 'Alpha Flight (1983) #61'},\n",
       "   {'resourceURI': 'http://gateway.marvel.com/v1/public/comics/12668',\n",
       "    'name': 'Alpha Flight (1983) #127'},\n",
       "   {'resourceURI': 'http://gateway.marvel.com/v1/public/comics/6748',\n",
       "    'name': 'The Amazing Spider-Man (1963) #339'},\n",
       "   {'resourceURI': 'http://gateway.marvel.com/v1/public/comics/277',\n",
       "    'name': 'Amazing Spider-Man (1999) #500'},\n",
       "   {'resourceURI': 'http://gateway.marvel.com/v1/public/comics/5808',\n",
       "    'name': 'Amazing Spider-Man (1999) #538'},\n",
       "   {'resourceURI': 'http://gateway.marvel.com/v1/public/comics/16904',\n",
       "    'name': 'Amazing Spider-Man Annual (1964) #3'},\n",
       "   {'resourceURI': 'http://gateway.marvel.com/v1/public/comics/16890',\n",
       "    'name': 'Amazing Spider-Man Annual (1964) #16'},\n",
       "   {'resourceURI': 'http://gateway.marvel.com/v1/public/comics/1262',\n",
       "    'name': 'Amazing Spider-Man Vol. 6 (Trade Paperback)'},\n",
       "   {'resourceURI': 'http://gateway.marvel.com/v1/public/comics/39896',\n",
       "    'name': 'Art of Marvel Studios TPB Slipcase (Hardcover)'},\n",
       "   {'resourceURI': 'http://gateway.marvel.com/v1/public/comics/32769',\n",
       "    'name': 'Astonishing Thor (2010) #1'}],\n",
       "  'returned': 20},\n",
       " 'series': {'available': 530,\n",
       "  'collectionURI': 'http://gateway.marvel.com/v1/public/characters/1009664/series',\n",
       "  'items': [{'resourceURI': 'http://gateway.marvel.com/v1/public/series/16450',\n",
       "    'name': 'A+X (2012 - 2014)'},\n",
       "   {'resourceURI': 'http://gateway.marvel.com/v1/public/series/9790',\n",
       "    'name': 'Age of Heroes (2010)'},\n",
       "   {'resourceURI': 'http://gateway.marvel.com/v1/public/series/34402',\n",
       "    'name': 'Alligator Loki Infinity Comic (2022)'},\n",
       "   {'resourceURI': 'http://gateway.marvel.com/v1/public/series/2116',\n",
       "    'name': 'Alpha Flight (1983 - 1994)'},\n",
       "   {'resourceURI': 'http://gateway.marvel.com/v1/public/series/17650',\n",
       "    'name': 'Alpha: Big Time (2013)'},\n",
       "   {'resourceURI': 'http://gateway.marvel.com/v1/public/series/454',\n",
       "    'name': 'Amazing Spider-Man (1999 - 2013)'},\n",
       "   {'resourceURI': 'http://gateway.marvel.com/v1/public/series/2984',\n",
       "    'name': 'Amazing Spider-Man Annual (1964 - 2018)'},\n",
       "   {'resourceURI': 'http://gateway.marvel.com/v1/public/series/318',\n",
       "    'name': 'Amazing Spider-Man Vol. 6 (2004)'},\n",
       "   {'resourceURI': 'http://gateway.marvel.com/v1/public/series/14779',\n",
       "    'name': 'Art of Marvel Studios TPB Slipcase (2011 - Present)'},\n",
       "   {'resourceURI': 'http://gateway.marvel.com/v1/public/series/9858',\n",
       "    'name': 'Astonishing Thor (2010)'},\n",
       "   {'resourceURI': 'http://gateway.marvel.com/v1/public/series/744',\n",
       "    'name': 'Astonishing X-Men (2004 - 2013)'},\n",
       "   {'resourceURI': 'http://gateway.marvel.com/v1/public/series/1991',\n",
       "    'name': 'Avengers (1963 - 1996)'},\n",
       "   {'resourceURI': 'http://gateway.marvel.com/v1/public/series/24229',\n",
       "    'name': 'Avengers (2018 - Present)'},\n",
       "   {'resourceURI': 'http://gateway.marvel.com/v1/public/series/9085',\n",
       "    'name': 'Avengers (2010 - 2012)'},\n",
       "   {'resourceURI': 'http://gateway.marvel.com/v1/public/series/3621',\n",
       "    'name': 'Avengers (1996 - 1997)'},\n",
       "   {'resourceURI': 'http://gateway.marvel.com/v1/public/series/22547',\n",
       "    'name': 'Avengers (2016 - 2018)'},\n",
       "   {'resourceURI': 'http://gateway.marvel.com/v1/public/series/354',\n",
       "    'name': 'Avengers (1998 - 2004)'},\n",
       "   {'resourceURI': 'http://gateway.marvel.com/v1/public/series/9859',\n",
       "    'name': 'Avengers & the Infinity Gauntlet (2010)'},\n",
       "   {'resourceURI': 'http://gateway.marvel.com/v1/public/series/9086',\n",
       "    'name': 'Avengers Academy (2010 - 2012)'},\n",
       "   {'resourceURI': 'http://gateway.marvel.com/v1/public/series/13320',\n",
       "    'name': 'Avengers Annual (2012)'}],\n",
       "  'returned': 20},\n",
       " 'stories': {'available': 2737,\n",
       "  'collectionURI': 'http://gateway.marvel.com/v1/public/characters/1009664/stories',\n",
       "  'items': [{'resourceURI': 'http://gateway.marvel.com/v1/public/stories/876',\n",
       "    'name': 'THOR (1998) #76',\n",
       "    'type': 'cover'},\n",
       "   {'resourceURI': 'http://gateway.marvel.com/v1/public/stories/877',\n",
       "    'name': 'Interior #877',\n",
       "    'type': 'interiorStory'},\n",
       "   {'resourceURI': 'http://gateway.marvel.com/v1/public/stories/879',\n",
       "    'name': 'Interior #879',\n",
       "    'type': 'interiorStory'},\n",
       "   {'resourceURI': 'http://gateway.marvel.com/v1/public/stories/880',\n",
       "    'name': 'THOR (1998) #77',\n",
       "    'type': 'cover'},\n",
       "   {'resourceURI': 'http://gateway.marvel.com/v1/public/stories/881',\n",
       "    'name': 'Interior #881',\n",
       "    'type': 'interiorStory'},\n",
       "   {'resourceURI': 'http://gateway.marvel.com/v1/public/stories/882',\n",
       "    'name': 'THOR (1998) #83',\n",
       "    'type': 'cover'},\n",
       "   {'resourceURI': 'http://gateway.marvel.com/v1/public/stories/883',\n",
       "    'name': 'Interior #883',\n",
       "    'type': 'interiorStory'},\n",
       "   {'resourceURI': 'http://gateway.marvel.com/v1/public/stories/884',\n",
       "    'name': 'THOR (1998) #82',\n",
       "    'type': 'cover'},\n",
       "   {'resourceURI': 'http://gateway.marvel.com/v1/public/stories/885',\n",
       "    'name': 'Interior #885',\n",
       "    'type': 'interiorStory'},\n",
       "   {'resourceURI': 'http://gateway.marvel.com/v1/public/stories/886',\n",
       "    'name': 'THOR (1998) #78',\n",
       "    'type': 'cover'},\n",
       "   {'resourceURI': 'http://gateway.marvel.com/v1/public/stories/887',\n",
       "    'name': 'Interior #887',\n",
       "    'type': 'interiorStory'},\n",
       "   {'resourceURI': 'http://gateway.marvel.com/v1/public/stories/888',\n",
       "    'name': 'THOR (1998) #79',\n",
       "    'type': 'cover'},\n",
       "   {'resourceURI': 'http://gateway.marvel.com/v1/public/stories/889',\n",
       "    'name': 'Interior #889',\n",
       "    'type': 'interiorStory'},\n",
       "   {'resourceURI': 'http://gateway.marvel.com/v1/public/stories/890',\n",
       "    'name': 'THOR (1998) #80',\n",
       "    'type': 'cover'},\n",
       "   {'resourceURI': 'http://gateway.marvel.com/v1/public/stories/891',\n",
       "    'name': 'Interior #891',\n",
       "    'type': 'interiorStory'},\n",
       "   {'resourceURI': 'http://gateway.marvel.com/v1/public/stories/892',\n",
       "    'name': 'THOR (1998) #81',\n",
       "    'type': 'cover'},\n",
       "   {'resourceURI': 'http://gateway.marvel.com/v1/public/stories/893',\n",
       "    'name': 'Interior #893',\n",
       "    'type': 'interiorStory'},\n",
       "   {'resourceURI': 'http://gateway.marvel.com/v1/public/stories/894',\n",
       "    'name': 'THOR (1998) #84',\n",
       "    'type': 'cover'},\n",
       "   {'resourceURI': 'http://gateway.marvel.com/v1/public/stories/895',\n",
       "    'name': 'AVENGERS DISASSEMBLED TIE-IN! “RAGNAROK” PART 4 (OF 6) What makes a god? Is it birthright, is it happenstance, or is it in the m',\n",
       "    'type': 'interiorStory'},\n",
       "   {'resourceURI': 'http://gateway.marvel.com/v1/public/stories/896',\n",
       "    'name': 'THOR (1998) #85',\n",
       "    'type': 'cover'}],\n",
       "  'returned': 20},\n",
       " 'events': {'available': 27,\n",
       "  'collectionURI': 'http://gateway.marvel.com/v1/public/characters/1009664/events',\n",
       "  'items': [{'resourceURI': 'http://gateway.marvel.com/v1/public/events/116',\n",
       "    'name': 'Acts of Vengeance!'},\n",
       "   {'resourceURI': 'http://gateway.marvel.com/v1/public/events/233',\n",
       "    'name': 'Atlantis Attacks'},\n",
       "   {'resourceURI': 'http://gateway.marvel.com/v1/public/events/234',\n",
       "    'name': 'Avengers Disassembled'},\n",
       "   {'resourceURI': 'http://gateway.marvel.com/v1/public/events/310',\n",
       "    'name': 'Avengers VS X-Men'},\n",
       "   {'resourceURI': 'http://gateway.marvel.com/v1/public/events/235',\n",
       "    'name': 'Blood and Thunder'},\n",
       "   {'resourceURI': 'http://gateway.marvel.com/v1/public/events/296',\n",
       "    'name': 'Chaos War'},\n",
       "   {'resourceURI': 'http://gateway.marvel.com/v1/public/events/238',\n",
       "    'name': 'Civil War'},\n",
       "   {'resourceURI': 'http://gateway.marvel.com/v1/public/events/318',\n",
       "    'name': 'Dark Reign'},\n",
       "   {'resourceURI': 'http://gateway.marvel.com/v1/public/events/246',\n",
       "    'name': 'Evolutionary War'},\n",
       "   {'resourceURI': 'http://gateway.marvel.com/v1/public/events/302',\n",
       "    'name': 'Fear Itself'},\n",
       "   {'resourceURI': 'http://gateway.marvel.com/v1/public/events/252',\n",
       "    'name': 'Inferno'},\n",
       "   {'resourceURI': 'http://gateway.marvel.com/v1/public/events/315',\n",
       "    'name': 'Infinity'},\n",
       "   {'resourceURI': 'http://gateway.marvel.com/v1/public/events/29',\n",
       "    'name': 'Infinity War'},\n",
       "   {'resourceURI': 'http://gateway.marvel.com/v1/public/events/317',\n",
       "    'name': 'Inhumanity'},\n",
       "   {'resourceURI': 'http://gateway.marvel.com/v1/public/events/311',\n",
       "    'name': 'Marvel NOW!'},\n",
       "   {'resourceURI': 'http://gateway.marvel.com/v1/public/events/37',\n",
       "    'name': 'Maximum Security'},\n",
       "   {'resourceURI': 'http://gateway.marvel.com/v1/public/events/263',\n",
       "    'name': 'Mutant Massacre'},\n",
       "   {'resourceURI': 'http://gateway.marvel.com/v1/public/events/154',\n",
       "    'name': 'Onslaught'},\n",
       "   {'resourceURI': 'http://gateway.marvel.com/v1/public/events/319',\n",
       "    'name': 'Original Sin'},\n",
       "   {'resourceURI': 'http://gateway.marvel.com/v1/public/events/336',\n",
       "    'name': 'Secret Empire'}],\n",
       "  'returned': 20},\n",
       " 'urls': [{'type': 'detail',\n",
       "   'url': 'http://marvel.com/comics/characters/1009664/thor?utm_campaign=apiRef&utm_source=78959008c1a2f83975399c4efd32bd07'},\n",
       "  {'type': 'wiki',\n",
       "   'url': 'http://marvel.com/universe/Thor_(Thor_Odinson)?utm_campaign=apiRef&utm_source=78959008c1a2f83975399c4efd32bd07'},\n",
       "  {'type': 'comiclink',\n",
       "   'url': 'http://marvel.com/comics/characters/1009664/thor?utm_campaign=apiRef&utm_source=78959008c1a2f83975399c4efd32bd07'}]}"
      ]
     },
     "execution_count": 25,
     "metadata": {},
     "output_type": "execute_result"
    }
   ],
   "source": [
    "my_character"
   ]
  },
  {
   "cell_type": "code",
   "execution_count": 26,
   "metadata": {},
   "outputs": [
    {
     "data": {
      "text/plain": [
       "dict_keys(['id', 'name', 'description', 'modified', 'thumbnail', 'resourceURI', 'comics', 'series', 'stories', 'events', 'urls'])"
      ]
     },
     "execution_count": 26,
     "metadata": {},
     "output_type": "execute_result"
    }
   ],
   "source": [
    "my_character.keys()"
   ]
  },
  {
   "cell_type": "code",
   "execution_count": 41,
   "metadata": {},
   "outputs": [
    {
     "data": {
      "text/plain": [
       "1824"
      ]
     },
     "execution_count": 41,
     "metadata": {},
     "output_type": "execute_result"
    }
   ],
   "source": [
    "my_character['comics']['available']"
   ]
  },
  {
   "cell_type": "code",
   "execution_count": 46,
   "metadata": {},
   "outputs": [],
   "source": [
    "id = my_character['id']\n",
    "name = my_character['name']\n",
    "times_in_comics = my_character['comics']['available']\n",
    "times_in_series = my_character['series']['available']\n",
    "times_in_stories = my_character['stories']['available']\n",
    "times_in_events = my_character['events']['available']\n",
    "total_times = times_in_comics + times_in_series + times_in_stories + times_in_events\n",
    "appearances = {\n",
    "    'comics': times_in_comics, \n",
    "    'series':times_in_series, \n",
    "    'stories':times_in_stories,\n",
    "    'events':times_in_events,\n",
    "    'total': total_times\n",
    "    }\n",
    "image = f\"{my_character['thumbnail']['path']}.{my_character['thumbnail']['extension']}\"\n",
    "my_character = {'id': id, 'name': name, 'image':image, 'appearances':appearances}"
   ]
  },
  {
   "cell_type": "code",
   "execution_count": 47,
   "metadata": {},
   "outputs": [
    {
     "data": {
      "text/plain": [
       "{'id': 1009187,\n",
       " 'name': 'Black Panther',\n",
       " 'image': 'http://i.annihil.us/u/prod/marvel/i/mg/6/60/5261a80a67e7d.jpg',\n",
       " 'appearances': {'comics': 691,\n",
       "  'series': 233,\n",
       "  'stories': 911,\n",
       "  'events': 17,\n",
       "  'total': 1852}}"
      ]
     },
     "execution_count": 47,
     "metadata": {},
     "output_type": "execute_result"
    }
   ],
   "source": [
    "my_character"
   ]
  },
  {
   "cell_type": "code",
   "execution_count": null,
   "metadata": {},
   "outputs": [],
   "source": []
  }
 ],
 "metadata": {
  "kernelspec": {
   "display_name": "Python 3.8.10 ('habi')",
   "language": "python",
   "name": "python3"
  },
  "language_info": {
   "codemirror_mode": {
    "name": "ipython",
    "version": 3
   },
   "file_extension": ".py",
   "mimetype": "text/x-python",
   "name": "python",
   "nbconvert_exporter": "python",
   "pygments_lexer": "ipython3",
   "version": "3.8.10"
  },
  "orig_nbformat": 4,
  "vscode": {
   "interpreter": {
    "hash": "69cb9ea80b70f32bbb47ae96da2bdcd63a5c0c5c1f34e0debf8ad94bc8dc3970"
   }
  }
 },
 "nbformat": 4,
 "nbformat_minor": 2
}
